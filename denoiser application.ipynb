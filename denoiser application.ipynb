{
 "cells": [
  {
   "cell_type": "code",
   "execution_count": 1,
   "id": "e5024f78",
   "metadata": {},
   "outputs": [],
   "source": [
    "import numpy as np\n",
    "import matplotlib.pyplot as plt\n",
    "\n",
    "from scipy.io import loadmat "
   ]
  },
  {
   "cell_type": "code",
   "execution_count": 2,
   "id": "4793f308",
   "metadata": {},
   "outputs": [
    {
     "name": "stdout",
     "output_type": "stream",
     "text": [
      "Requirement already satisfied: ipynb in /opt/conda/lib/python3.8/site-packages (0.5.1)\n",
      "Note: you may need to restart the kernel to use updated packages.\n"
     ]
    }
   ],
   "source": [
    "pip install ipynb"
   ]
  },
  {
   "cell_type": "code",
   "execution_count": 3,
   "id": "3b636b10",
   "metadata": {},
   "outputs": [
    {
     "ename": "NameError",
     "evalue": "name 'train_params' is not defined",
     "output_type": "error",
     "traceback": [
      "\u001b[0;31m---------------------------------------------------------------------------\u001b[0m",
      "\u001b[0;31mNameError\u001b[0m                                 Traceback (most recent call last)",
      "\u001b[0;32m<ipython-input-3-2e75dd98ecce>\u001b[0m in \u001b[0;36m<module>\u001b[0;34m\u001b[0m\n\u001b[0;32m----> 1\u001b[0;31m \u001b[0;32mfrom\u001b[0m \u001b[0mipynb\u001b[0m\u001b[0;34m.\u001b[0m\u001b[0mfs\u001b[0m\u001b[0;34m.\u001b[0m\u001b[0mdefs\u001b[0m\u001b[0;34m.\u001b[0m\u001b[0mproton_denoiser\u001b[0m \u001b[0;32mimport\u001b[0m \u001b[0mToTensor\u001b[0m\u001b[0;34m,\u001b[0m\u001b[0mnorm_tensor\u001b[0m\u001b[0;34m\u001b[0m\u001b[0;34m\u001b[0m\u001b[0m\n\u001b[0m",
      "\u001b[0;32m/workspace/giove/proton/proton_denoiser.ipynb\u001b[0m in \u001b[0;36m<module>\u001b[0;34m\u001b[0m\n\u001b[1;32m    444\u001b[0m     \u001b[0;34m\"    def __init__(self,p,angle):\\n\"\u001b[0m\u001b[0;34m,\u001b[0m\u001b[0;34m\u001b[0m\u001b[0;34m\u001b[0m\u001b[0m\n\u001b[1;32m    445\u001b[0m     \u001b[0;34m\"        super().__init__()\\n\"\u001b[0m\u001b[0;34m,\u001b[0m\u001b[0;34m\u001b[0m\u001b[0;34m\u001b[0m\u001b[0m\n\u001b[0;32m--> 446\u001b[0;31m     \u001b[0;34m\"        self.p = p\\n\"\u001b[0m\u001b[0;34m,\u001b[0m\u001b[0;34m\u001b[0m\u001b[0;34m\u001b[0m\u001b[0m\n\u001b[0m\u001b[1;32m    447\u001b[0m     \u001b[0;34m\"        self.angle = torch.tensor([angle])\\n\"\u001b[0m\u001b[0;34m,\u001b[0m\u001b[0;34m\u001b[0m\u001b[0;34m\u001b[0m\u001b[0m\n\u001b[1;32m    448\u001b[0m     \u001b[0;34m\"\\n\"\u001b[0m\u001b[0;34m,\u001b[0m\u001b[0;34m\u001b[0m\u001b[0;34m\u001b[0m\u001b[0m\n",
      "\u001b[0;31mNameError\u001b[0m: name 'train_params' is not defined"
     ]
    }
   ],
   "source": [
    "from ipynb.fs.defs.proton_denoiser import ToTensor,norm_tensor"
   ]
  },
  {
   "cell_type": "code",
   "execution_count": null,
   "id": "dd110a8d",
   "metadata": {},
   "outputs": [],
   "source": [
    "!pip install dipy"
   ]
  },
  {
   "cell_type": "code",
   "execution_count": null,
   "id": "03ce52bf",
   "metadata": {},
   "outputs": [],
   "source": [
    "from time import time\n",
    "from dipy.denoise.nlmeans import nlmeans\n",
    "from dipy.denoise.noise_estimate import estimate_sigma\n"
   ]
  },
  {
   "cell_type": "code",
   "execution_count": null,
   "id": "b09961e9",
   "metadata": {},
   "outputs": [],
   "source": [
    "Immagine = \"raw_sample.mat\""
   ]
  },
  {
   "cell_type": "code",
   "execution_count": null,
   "id": "419fc1e5",
   "metadata": {},
   "outputs": [],
   "source": [
    "def normM(M0):\n",
    "    '''float norm tra 0.1'''\n",
    "    \n",
    "#    M0 = M0.numpy()\n",
    "    M0 = (M0-np.min(M0))/(np.max(M0)-np.min(M0))\n",
    "    return M0"
   ]
  },
  {
   "cell_type": "code",
   "execution_count": null,
   "id": "fa01121b",
   "metadata": {},
   "outputs": [],
   "source": [
    "k_data = loadmat(Immagine)['ans']# output di scipy.io is a dictionary \"ans\" select the numerical data\n",
    "#imm = loadmat(Immagine)# output di scipy.io is a dictionary \"ans\" select the numerical data\n",
    "k_data=np.transpose(k_data,(-1,0,1))\n",
    "k_data = np.expand_dims(k_data,axis=1)\n"
   ]
  },
  {
   "cell_type": "code",
   "execution_count": null,
   "id": "447a7cbd",
   "metadata": {},
   "outputs": [],
   "source": [
    "imm.shape"
   ]
  },
  {
   "cell_type": "code",
   "execution_count": null,
   "id": "c0649d9b",
   "metadata": {},
   "outputs": [],
   "source": [
    "imm.dtype"
   ]
  },
  {
   "cell_type": "code",
   "execution_count": null,
   "id": "0517a552",
   "metadata": {},
   "outputs": [],
   "source": []
  }
 ],
 "metadata": {
  "kernelspec": {
   "display_name": "Python 3",
   "language": "python",
   "name": "python3"
  },
  "language_info": {
   "codemirror_mode": {
    "name": "ipython",
    "version": 3
   },
   "file_extension": ".py",
   "mimetype": "text/x-python",
   "name": "python",
   "nbconvert_exporter": "python",
   "pygments_lexer": "ipython3",
   "version": "3.8.8"
  }
 },
 "nbformat": 4,
 "nbformat_minor": 5
}
